{
 "cells": [
  {
   "cell_type": "code",
   "execution_count": 1,
   "metadata": {},
   "outputs": [],
   "source": [
    "import pandas as pd\n",
    "import numpy as np\n",
    "import matplotlib.pyplot as plt\n",
    "import seaborn as sns"
   ]
  },
  {
   "cell_type": "code",
   "execution_count": 2,
   "metadata": {},
   "outputs": [],
   "source": [
    "data= pd.read_csv('Data/Real-Data/Real_Combine.csv')"
   ]
  },
  {
   "cell_type": "code",
   "execution_count": 3,
   "metadata": {},
   "outputs": [],
   "source": [
    "data.dropna(inplace=True)"
   ]
  },
  {
   "cell_type": "code",
   "execution_count": 4,
   "metadata": {},
   "outputs": [],
   "source": [
    "x=data.drop('PM 2.5', axis=1)"
   ]
  },
  {
   "cell_type": "code",
   "execution_count": 5,
   "metadata": {},
   "outputs": [],
   "source": [
    "y=data['PM 2.5']"
   ]
  },
  {
   "cell_type": "code",
   "execution_count": 6,
   "metadata": {},
   "outputs": [],
   "source": [
    "from sklearn.model_selection import train_test_split\n",
    "xtr,xte,ytr,yte=train_test_split(x,y, test_size=0.3)"
   ]
  },
  {
   "cell_type": "code",
   "execution_count": 7,
   "metadata": {},
   "outputs": [
    {
     "ename": "ModuleNotFoundError",
     "evalue": "No module named 'tensorflow'",
     "output_type": "error",
     "traceback": [
      "\u001b[1;31m---------------------------------------------------------------------------\u001b[0m",
      "\u001b[1;31mModuleNotFoundError\u001b[0m                       Traceback (most recent call last)",
      "\u001b[1;32m<ipython-input-7-2a4ed99be767>\u001b[0m in \u001b[0;36m<module>\u001b[1;34m\u001b[0m\n\u001b[1;32m----> 1\u001b[1;33m \u001b[1;32mfrom\u001b[0m \u001b[0mtensorflow\u001b[0m\u001b[1;33m.\u001b[0m\u001b[0mkeras\u001b[0m\u001b[1;33m.\u001b[0m\u001b[0minitializers\u001b[0m \u001b[1;32mimport\u001b[0m \u001b[0mHeNormal\u001b[0m\u001b[1;33m\u001b[0m\u001b[1;33m\u001b[0m\u001b[0m\n\u001b[0m",
      "\u001b[1;31mModuleNotFoundError\u001b[0m: No module named 'tensorflow'"
     ]
    }
   ],
   "source": [
    "from tensorflow.keras.initializers import HeNormal"
   ]
  },
  {
   "cell_type": "code",
   "execution_count": null,
   "metadata": {},
   "outputs": [],
   "source": [
    "import keras\n",
    "from tensorflow.keras.models import Sequential\n",
    "from tensorflow.keras.layers import Dense, LeakyReLU, PReLU, ELU, Dropout"
   ]
  },
  {
   "cell_type": "code",
   "execution_count": 9,
   "metadata": {},
   "outputs": [],
   "source": [
    "model= Sequential()\n",
    "model.add(Dense(128,kernel_initializer=HeNormal,input_dim=xtr.shape[1],activation='relu'))\n",
    "model.add(Dense(256, kernel_initializer=HeNormal,activation='relu'))\n",
    "model.add(Dense(256, kernel_initializer=HeNormal,activation='relu'))\n",
    "model.add(Dense(256, kernel_initializer=HeNormal,activation='relu'))\n",
    "model.add(Dense(1, kernel_initializer=HeNormal,activation='linear'))"
   ]
  },
  {
   "cell_type": "code",
   "execution_count": 10,
   "metadata": {},
   "outputs": [
    {
     "name": "stdout",
     "output_type": "stream",
     "text": [
      "Model: \"sequential\"\n",
      "_________________________________________________________________\n",
      "Layer (type)                 Output Shape              Param #   \n",
      "=================================================================\n",
      "dense (Dense)                (None, 128)               1152      \n",
      "_________________________________________________________________\n",
      "dense_1 (Dense)              (None, 256)               33024     \n",
      "_________________________________________________________________\n",
      "dense_2 (Dense)              (None, 256)               65792     \n",
      "_________________________________________________________________\n",
      "dense_3 (Dense)              (None, 256)               65792     \n",
      "_________________________________________________________________\n",
      "dense_4 (Dense)              (None, 1)                 257       \n",
      "=================================================================\n",
      "Total params: 166,017\n",
      "Trainable params: 166,017\n",
      "Non-trainable params: 0\n",
      "_________________________________________________________________\n"
     ]
    }
   ],
   "source": [
    "model.summary()"
   ]
  },
  {
   "cell_type": "code",
   "execution_count": 11,
   "metadata": {},
   "outputs": [],
   "source": [
    "model.compile(loss='mean_absolute_error',optimizer='adam',metrics=['mean_absolute_error'])"
   ]
  },
  {
   "cell_type": "code",
   "execution_count": 12,
   "metadata": {},
   "outputs": [
    {
     "name": "stdout",
     "output_type": "stream",
     "text": [
      "Epoch 1/100\n",
      "17/17 [==============================] - 0s 9ms/step - loss: 362.0355 - mean_absolute_error: 362.0355 - val_loss: 125.7764 - val_mean_absolute_error: 125.7764\n",
      "Epoch 2/100\n",
      "17/17 [==============================] - 0s 3ms/step - loss: 83.6063 - mean_absolute_error: 83.6063 - val_loss: 59.8784 - val_mean_absolute_error: 59.8784\n",
      "Epoch 3/100\n",
      "17/17 [==============================] - 0s 3ms/step - loss: 71.4943 - mean_absolute_error: 71.4943 - val_loss: 54.6019 - val_mean_absolute_error: 54.6019\n",
      "Epoch 4/100\n",
      "17/17 [==============================] - 0s 3ms/step - loss: 67.3482 - mean_absolute_error: 67.3482 - val_loss: 51.8780 - val_mean_absolute_error: 51.8780\n",
      "Epoch 5/100\n",
      "17/17 [==============================] - 0s 3ms/step - loss: 60.0053 - mean_absolute_error: 60.0053 - val_loss: 62.3226 - val_mean_absolute_error: 62.3226\n",
      "Epoch 6/100\n",
      "17/17 [==============================] - 0s 3ms/step - loss: 66.1365 - mean_absolute_error: 66.1365 - val_loss: 56.6264 - val_mean_absolute_error: 56.6264\n",
      "Epoch 7/100\n",
      "17/17 [==============================] - 0s 3ms/step - loss: 59.6342 - mean_absolute_error: 59.6342 - val_loss: 47.2335 - val_mean_absolute_error: 47.2335\n",
      "Epoch 8/100\n",
      "17/17 [==============================] - 0s 3ms/step - loss: 56.8267 - mean_absolute_error: 56.8267 - val_loss: 118.4653 - val_mean_absolute_error: 118.4653\n",
      "Epoch 9/100\n",
      "17/17 [==============================] - 0s 4ms/step - loss: 98.0372 - mean_absolute_error: 98.0372 - val_loss: 140.8088 - val_mean_absolute_error: 140.8088\n",
      "Epoch 10/100\n",
      "17/17 [==============================] - 0s 6ms/step - loss: 70.2211 - mean_absolute_error: 70.2211 - val_loss: 46.2285 - val_mean_absolute_error: 46.2285\n",
      "Epoch 11/100\n",
      "17/17 [==============================] - 0s 6ms/step - loss: 65.5425 - mean_absolute_error: 65.5425 - val_loss: 48.3815 - val_mean_absolute_error: 48.3815\n",
      "Epoch 12/100\n",
      "17/17 [==============================] - 0s 4ms/step - loss: 68.6240 - mean_absolute_error: 68.6240 - val_loss: 76.4614 - val_mean_absolute_error: 76.4614\n",
      "Epoch 13/100\n",
      "17/17 [==============================] - 0s 3ms/step - loss: 65.8088 - mean_absolute_error: 65.8088 - val_loss: 56.6134 - val_mean_absolute_error: 56.6134\n",
      "Epoch 14/100\n",
      "17/17 [==============================] - 0s 4ms/step - loss: 54.0645 - mean_absolute_error: 54.0645 - val_loss: 47.7283 - val_mean_absolute_error: 47.7283\n",
      "Epoch 15/100\n",
      "17/17 [==============================] - 0s 5ms/step - loss: 52.8675 - mean_absolute_error: 52.8675 - val_loss: 58.5130 - val_mean_absolute_error: 58.5130\n",
      "Epoch 16/100\n",
      "17/17 [==============================] - 0s 6ms/step - loss: 56.1061 - mean_absolute_error: 56.1061 - val_loss: 54.3307 - val_mean_absolute_error: 54.3307\n",
      "Epoch 17/100\n",
      "17/17 [==============================] - 0s 6ms/step - loss: 60.4874 - mean_absolute_error: 60.4874 - val_loss: 45.6120 - val_mean_absolute_error: 45.6120\n",
      "Epoch 18/100\n",
      "17/17 [==============================] - 0s 5ms/step - loss: 55.4482 - mean_absolute_error: 55.4482 - val_loss: 70.4997 - val_mean_absolute_error: 70.4997\n",
      "Epoch 19/100\n",
      "17/17 [==============================] - 0s 3ms/step - loss: 57.1544 - mean_absolute_error: 57.1544 - val_loss: 45.3994 - val_mean_absolute_error: 45.3994\n",
      "Epoch 20/100\n",
      "17/17 [==============================] - 0s 3ms/step - loss: 47.6936 - mean_absolute_error: 47.6936 - val_loss: 44.1109 - val_mean_absolute_error: 44.1109\n",
      "Epoch 21/100\n",
      "17/17 [==============================] - 0s 3ms/step - loss: 46.7789 - mean_absolute_error: 46.7789 - val_loss: 47.4460 - val_mean_absolute_error: 47.4460\n",
      "Epoch 22/100\n",
      "17/17 [==============================] - 0s 3ms/step - loss: 53.8623 - mean_absolute_error: 53.8623 - val_loss: 44.6726 - val_mean_absolute_error: 44.6726\n",
      "Epoch 23/100\n",
      "17/17 [==============================] - 0s 3ms/step - loss: 56.7840 - mean_absolute_error: 56.7840 - val_loss: 44.0575 - val_mean_absolute_error: 44.0575\n",
      "Epoch 24/100\n",
      "17/17 [==============================] - 0s 3ms/step - loss: 49.4340 - mean_absolute_error: 49.4340 - val_loss: 44.4192 - val_mean_absolute_error: 44.4192\n",
      "Epoch 25/100\n",
      "17/17 [==============================] - 0s 3ms/step - loss: 48.8083 - mean_absolute_error: 48.8083 - val_loss: 46.3439 - val_mean_absolute_error: 46.3439\n",
      "Epoch 26/100\n",
      "17/17 [==============================] - 0s 3ms/step - loss: 50.3301 - mean_absolute_error: 50.3301 - val_loss: 45.5364 - val_mean_absolute_error: 45.5364\n",
      "Epoch 27/100\n",
      "17/17 [==============================] - 0s 3ms/step - loss: 49.7557 - mean_absolute_error: 49.7557 - val_loss: 45.8769 - val_mean_absolute_error: 45.8769\n",
      "Epoch 28/100\n",
      "17/17 [==============================] - 0s 3ms/step - loss: 51.7072 - mean_absolute_error: 51.7072 - val_loss: 43.8897 - val_mean_absolute_error: 43.8897\n",
      "Epoch 29/100\n",
      "17/17 [==============================] - 0s 3ms/step - loss: 52.3907 - mean_absolute_error: 52.3907 - val_loss: 47.1732 - val_mean_absolute_error: 47.1732\n",
      "Epoch 30/100\n",
      "17/17 [==============================] - 0s 3ms/step - loss: 49.5458 - mean_absolute_error: 49.5458 - val_loss: 43.5214 - val_mean_absolute_error: 43.5214\n",
      "Epoch 31/100\n",
      "17/17 [==============================] - 0s 3ms/step - loss: 54.0131 - mean_absolute_error: 54.0131 - val_loss: 45.6558 - val_mean_absolute_error: 45.6558\n",
      "Epoch 32/100\n",
      "17/17 [==============================] - 0s 3ms/step - loss: 50.5967 - mean_absolute_error: 50.5967 - val_loss: 57.7638 - val_mean_absolute_error: 57.7638\n",
      "Epoch 33/100\n",
      "17/17 [==============================] - 0s 3ms/step - loss: 52.7007 - mean_absolute_error: 52.7007 - val_loss: 51.1258 - val_mean_absolute_error: 51.1258\n",
      "Epoch 34/100\n",
      "17/17 [==============================] - 0s 3ms/step - loss: 51.6388 - mean_absolute_error: 51.6388 - val_loss: 44.5472 - val_mean_absolute_error: 44.5472\n",
      "Epoch 35/100\n",
      "17/17 [==============================] - 0s 3ms/step - loss: 55.7316 - mean_absolute_error: 55.7316 - val_loss: 59.6448 - val_mean_absolute_error: 59.6448\n",
      "Epoch 36/100\n",
      "17/17 [==============================] - 0s 3ms/step - loss: 56.9027 - mean_absolute_error: 56.9027 - val_loss: 62.9780 - val_mean_absolute_error: 62.9780\n",
      "Epoch 37/100\n",
      "17/17 [==============================] - 0s 3ms/step - loss: 54.0548 - mean_absolute_error: 54.0548 - val_loss: 46.4767 - val_mean_absolute_error: 46.4767\n",
      "Epoch 38/100\n",
      "17/17 [==============================] - 0s 3ms/step - loss: 49.7539 - mean_absolute_error: 49.7539 - val_loss: 52.5902 - val_mean_absolute_error: 52.5902\n",
      "Epoch 39/100\n",
      "17/17 [==============================] - 0s 3ms/step - loss: 51.7975 - mean_absolute_error: 51.7975 - val_loss: 43.2354 - val_mean_absolute_error: 43.2354\n",
      "Epoch 40/100\n",
      "17/17 [==============================] - 0s 3ms/step - loss: 49.3713 - mean_absolute_error: 49.3713 - val_loss: 44.9757 - val_mean_absolute_error: 44.9757\n",
      "Epoch 41/100\n",
      "17/17 [==============================] - 0s 3ms/step - loss: 46.0981 - mean_absolute_error: 46.0981 - val_loss: 43.0299 - val_mean_absolute_error: 43.0299\n",
      "Epoch 42/100\n",
      "17/17 [==============================] - 0s 3ms/step - loss: 45.1000 - mean_absolute_error: 45.1000 - val_loss: 49.0895 - val_mean_absolute_error: 49.0895\n",
      "Epoch 43/100\n",
      "17/17 [==============================] - 0s 3ms/step - loss: 49.1879 - mean_absolute_error: 49.1879 - val_loss: 47.1004 - val_mean_absolute_error: 47.1004\n",
      "Epoch 44/100\n",
      "17/17 [==============================] - 0s 3ms/step - loss: 47.0497 - mean_absolute_error: 47.0497 - val_loss: 43.9825 - val_mean_absolute_error: 43.9825\n",
      "Epoch 45/100\n",
      "17/17 [==============================] - 0s 3ms/step - loss: 49.0635 - mean_absolute_error: 49.0635 - val_loss: 45.5605 - val_mean_absolute_error: 45.5605\n",
      "Epoch 46/100\n",
      "17/17 [==============================] - 0s 3ms/step - loss: 47.2793 - mean_absolute_error: 47.2793 - val_loss: 46.8784 - val_mean_absolute_error: 46.8784\n",
      "Epoch 47/100\n",
      "17/17 [==============================] - 0s 3ms/step - loss: 46.8059 - mean_absolute_error: 46.8059 - val_loss: 52.4825 - val_mean_absolute_error: 52.4825\n",
      "Epoch 48/100\n",
      "17/17 [==============================] - 0s 3ms/step - loss: 47.2383 - mean_absolute_error: 47.2383 - val_loss: 44.0938 - val_mean_absolute_error: 44.0938\n",
      "Epoch 49/100\n",
      "17/17 [==============================] - 0s 3ms/step - loss: 45.9838 - mean_absolute_error: 45.9838 - val_loss: 43.7343 - val_mean_absolute_error: 43.7343\n"
     ]
    },
    {
     "name": "stdout",
     "output_type": "stream",
     "text": [
      "Epoch 50/100\n",
      "17/17 [==============================] - 0s 3ms/step - loss: 49.6895 - mean_absolute_error: 49.6895 - val_loss: 43.0701 - val_mean_absolute_error: 43.0701\n",
      "Epoch 51/100\n",
      "17/17 [==============================] - 0s 3ms/step - loss: 55.1326 - mean_absolute_error: 55.1326 - val_loss: 52.8401 - val_mean_absolute_error: 52.8401\n",
      "Epoch 52/100\n",
      "17/17 [==============================] - 0s 3ms/step - loss: 49.8130 - mean_absolute_error: 49.8130 - val_loss: 45.4270 - val_mean_absolute_error: 45.4270\n",
      "Epoch 53/100\n",
      "17/17 [==============================] - 0s 3ms/step - loss: 47.7234 - mean_absolute_error: 47.7234 - val_loss: 43.9472 - val_mean_absolute_error: 43.9472\n",
      "Epoch 54/100\n",
      "17/17 [==============================] - 0s 3ms/step - loss: 47.3067 - mean_absolute_error: 47.3067 - val_loss: 44.8715 - val_mean_absolute_error: 44.8715\n",
      "Epoch 55/100\n",
      "17/17 [==============================] - 0s 3ms/step - loss: 49.1786 - mean_absolute_error: 49.1786 - val_loss: 44.9785 - val_mean_absolute_error: 44.9785\n",
      "Epoch 56/100\n",
      "17/17 [==============================] - 0s 3ms/step - loss: 46.3347 - mean_absolute_error: 46.3347 - val_loss: 42.9767 - val_mean_absolute_error: 42.9767\n",
      "Epoch 57/100\n",
      "17/17 [==============================] - 0s 3ms/step - loss: 48.0694 - mean_absolute_error: 48.0694 - val_loss: 43.1227 - val_mean_absolute_error: 43.1227\n",
      "Epoch 58/100\n",
      "17/17 [==============================] - 0s 3ms/step - loss: 47.6958 - mean_absolute_error: 47.6958 - val_loss: 43.1428 - val_mean_absolute_error: 43.1428\n",
      "Epoch 59/100\n",
      "17/17 [==============================] - 0s 3ms/step - loss: 47.2818 - mean_absolute_error: 47.2818 - val_loss: 44.4338 - val_mean_absolute_error: 44.4338\n",
      "Epoch 60/100\n",
      "17/17 [==============================] - 0s 3ms/step - loss: 45.3321 - mean_absolute_error: 45.3321 - val_loss: 43.5186 - val_mean_absolute_error: 43.5186\n",
      "Epoch 61/100\n",
      "17/17 [==============================] - 0s 3ms/step - loss: 46.4397 - mean_absolute_error: 46.4397 - val_loss: 43.0135 - val_mean_absolute_error: 43.0135\n",
      "Epoch 62/100\n",
      "17/17 [==============================] - 0s 3ms/step - loss: 45.3013 - mean_absolute_error: 45.3013 - val_loss: 42.6043 - val_mean_absolute_error: 42.6043\n",
      "Epoch 63/100\n",
      "17/17 [==============================] - 0s 3ms/step - loss: 46.4590 - mean_absolute_error: 46.4590 - val_loss: 45.9917 - val_mean_absolute_error: 45.9917\n",
      "Epoch 64/100\n",
      "17/17 [==============================] - 0s 3ms/step - loss: 51.2230 - mean_absolute_error: 51.2230 - val_loss: 49.9497 - val_mean_absolute_error: 49.9497\n",
      "Epoch 65/100\n",
      "17/17 [==============================] - 0s 3ms/step - loss: 46.0200 - mean_absolute_error: 46.0200 - val_loss: 43.8370 - val_mean_absolute_error: 43.8370\n",
      "Epoch 66/100\n",
      "17/17 [==============================] - 0s 3ms/step - loss: 47.6606 - mean_absolute_error: 47.6606 - val_loss: 43.0614 - val_mean_absolute_error: 43.0614\n",
      "Epoch 67/100\n",
      "17/17 [==============================] - 0s 3ms/step - loss: 47.6459 - mean_absolute_error: 47.6459 - val_loss: 42.9287 - val_mean_absolute_error: 42.9287\n",
      "Epoch 68/100\n",
      "17/17 [==============================] - 0s 3ms/step - loss: 44.5507 - mean_absolute_error: 44.5507 - val_loss: 43.2297 - val_mean_absolute_error: 43.2297\n",
      "Epoch 69/100\n",
      "17/17 [==============================] - 0s 3ms/step - loss: 46.1022 - mean_absolute_error: 46.1022 - val_loss: 43.9847 - val_mean_absolute_error: 43.9847\n",
      "Epoch 70/100\n",
      "17/17 [==============================] - 0s 3ms/step - loss: 45.5412 - mean_absolute_error: 45.5412 - val_loss: 42.7352 - val_mean_absolute_error: 42.7352\n",
      "Epoch 71/100\n",
      "17/17 [==============================] - 0s 3ms/step - loss: 48.4106 - mean_absolute_error: 48.4106 - val_loss: 43.0300 - val_mean_absolute_error: 43.0300\n",
      "Epoch 72/100\n",
      "17/17 [==============================] - 0s 3ms/step - loss: 45.2478 - mean_absolute_error: 45.2478 - val_loss: 42.6571 - val_mean_absolute_error: 42.6571\n",
      "Epoch 73/100\n",
      "17/17 [==============================] - 0s 3ms/step - loss: 44.8626 - mean_absolute_error: 44.8626 - val_loss: 44.9460 - val_mean_absolute_error: 44.9460\n",
      "Epoch 74/100\n",
      "17/17 [==============================] - 0s 3ms/step - loss: 46.8838 - mean_absolute_error: 46.8838 - val_loss: 42.7788 - val_mean_absolute_error: 42.7788\n",
      "Epoch 75/100\n",
      "17/17 [==============================] - 0s 3ms/step - loss: 45.7752 - mean_absolute_error: 45.7752 - val_loss: 45.0416 - val_mean_absolute_error: 45.0416\n",
      "Epoch 76/100\n",
      "17/17 [==============================] - 0s 3ms/step - loss: 46.1764 - mean_absolute_error: 46.1764 - val_loss: 44.4687 - val_mean_absolute_error: 44.4687\n",
      "Epoch 77/100\n",
      "17/17 [==============================] - 0s 3ms/step - loss: 46.9256 - mean_absolute_error: 46.9256 - val_loss: 45.3485 - val_mean_absolute_error: 45.3485\n",
      "Epoch 78/100\n",
      "17/17 [==============================] - 0s 3ms/step - loss: 46.9013 - mean_absolute_error: 46.9013 - val_loss: 44.8492 - val_mean_absolute_error: 44.8492\n",
      "Epoch 79/100\n",
      "17/17 [==============================] - 0s 3ms/step - loss: 47.0775 - mean_absolute_error: 47.0775 - val_loss: 45.2100 - val_mean_absolute_error: 45.2100\n",
      "Epoch 80/100\n",
      "17/17 [==============================] - 0s 3ms/step - loss: 46.1667 - mean_absolute_error: 46.1667 - val_loss: 49.3420 - val_mean_absolute_error: 49.3420\n",
      "Epoch 81/100\n",
      "17/17 [==============================] - 0s 3ms/step - loss: 47.0863 - mean_absolute_error: 47.0863 - val_loss: 43.1733 - val_mean_absolute_error: 43.1733\n",
      "Epoch 82/100\n",
      "17/17 [==============================] - 0s 3ms/step - loss: 44.8236 - mean_absolute_error: 44.8236 - val_loss: 43.8343 - val_mean_absolute_error: 43.8343\n",
      "Epoch 83/100\n",
      "17/17 [==============================] - 0s 3ms/step - loss: 45.3693 - mean_absolute_error: 45.3693 - val_loss: 44.9785 - val_mean_absolute_error: 44.9785\n",
      "Epoch 84/100\n",
      "17/17 [==============================] - 0s 3ms/step - loss: 48.7475 - mean_absolute_error: 48.7475 - val_loss: 44.0696 - val_mean_absolute_error: 44.0696\n",
      "Epoch 85/100\n",
      "17/17 [==============================] - 0s 3ms/step - loss: 48.7086 - mean_absolute_error: 48.7086 - val_loss: 46.2444 - val_mean_absolute_error: 46.2444\n",
      "Epoch 86/100\n",
      "17/17 [==============================] - 0s 3ms/step - loss: 46.4216 - mean_absolute_error: 46.4216 - val_loss: 45.1815 - val_mean_absolute_error: 45.1815\n",
      "Epoch 87/100\n",
      "17/17 [==============================] - 0s 3ms/step - loss: 46.3197 - mean_absolute_error: 46.3197 - val_loss: 45.9159 - val_mean_absolute_error: 45.9159\n",
      "Epoch 88/100\n",
      "17/17 [==============================] - 0s 3ms/step - loss: 44.7539 - mean_absolute_error: 44.7539 - val_loss: 42.5627 - val_mean_absolute_error: 42.5627\n",
      "Epoch 89/100\n",
      "17/17 [==============================] - 0s 3ms/step - loss: 44.2026 - mean_absolute_error: 44.2026 - val_loss: 42.6121 - val_mean_absolute_error: 42.6121\n",
      "Epoch 90/100\n",
      "17/17 [==============================] - 0s 3ms/step - loss: 43.9795 - mean_absolute_error: 43.9795 - val_loss: 42.6917 - val_mean_absolute_error: 42.6917\n",
      "Epoch 91/100\n",
      "17/17 [==============================] - 0s 3ms/step - loss: 44.0013 - mean_absolute_error: 44.0013 - val_loss: 46.5149 - val_mean_absolute_error: 46.5149\n",
      "Epoch 92/100\n",
      "17/17 [==============================] - 0s 3ms/step - loss: 45.7997 - mean_absolute_error: 45.7997 - val_loss: 42.0184 - val_mean_absolute_error: 42.0184\n",
      "Epoch 93/100\n",
      "17/17 [==============================] - 0s 3ms/step - loss: 44.7044 - mean_absolute_error: 44.7044 - val_loss: 42.4399 - val_mean_absolute_error: 42.4399\n",
      "Epoch 94/100\n",
      "17/17 [==============================] - 0s 3ms/step - loss: 44.8002 - mean_absolute_error: 44.8002 - val_loss: 43.7671 - val_mean_absolute_error: 43.7671\n",
      "Epoch 95/100\n",
      "17/17 [==============================] - 0s 3ms/step - loss: 45.9267 - mean_absolute_error: 45.9267 - val_loss: 43.5338 - val_mean_absolute_error: 43.5338\n",
      "Epoch 96/100\n",
      "17/17 [==============================] - 0s 3ms/step - loss: 46.7940 - mean_absolute_error: 46.7940 - val_loss: 42.9455 - val_mean_absolute_error: 42.9455\n",
      "Epoch 97/100\n",
      "17/17 [==============================] - 0s 3ms/step - loss: 44.3918 - mean_absolute_error: 44.3918 - val_loss: 43.9410 - val_mean_absolute_error: 43.9410\n",
      "Epoch 98/100\n",
      "17/17 [==============================] - 0s 3ms/step - loss: 43.7172 - mean_absolute_error: 43.7172 - val_loss: 43.9870 - val_mean_absolute_error: 43.9870\n"
     ]
    },
    {
     "name": "stdout",
     "output_type": "stream",
     "text": [
      "Epoch 99/100\n",
      "17/17 [==============================] - 0s 3ms/step - loss: 47.1434 - mean_absolute_error: 47.1434 - val_loss: 42.5401 - val_mean_absolute_error: 42.5401\n",
      "Epoch 100/100\n",
      "17/17 [==============================] - 0s 3ms/step - loss: 47.3581 - mean_absolute_error: 47.3581 - val_loss: 46.1192 - val_mean_absolute_error: 46.1192\n"
     ]
    }
   ],
   "source": [
    "hist2= model.fit(xtr,ytr, validation_split=0.3, epochs=100)"
   ]
  },
  {
   "cell_type": "code",
   "execution_count": 13,
   "metadata": {},
   "outputs": [],
   "source": [
    "ypred= model.predict(xte)"
   ]
  },
  {
   "cell_type": "code",
   "execution_count": 14,
   "metadata": {},
   "outputs": [],
   "source": [
    "pred=[]\n",
    "for i in ypred:\n",
    "    for j in i:\n",
    "        pred.append(j)"
   ]
  },
  {
   "cell_type": "code",
   "execution_count": 15,
   "metadata": {},
   "outputs": [],
   "source": [
    "import seaborn as sns"
   ]
  },
  {
   "cell_type": "code",
   "execution_count": 16,
   "metadata": {},
   "outputs": [
    {
     "data": {
      "text/plain": [
       "<matplotlib.axes._subplots.AxesSubplot at 0x1f176772b38>"
      ]
     },
     "execution_count": 16,
     "metadata": {},
     "output_type": "execute_result"
    },
    {
     "data": {
      "image/png": "[encoded data removed]",
      "text/plain": [
       "<Figure size 432x288 with 1 Axes>"
      ]
     },
     "metadata": {
      "needs_background": "light"
     },
     "output_type": "display_data"
    }
   ],
   "source": [
    "sns.scatterplot(yte,pred)"
   ]
  },
  {
   "cell_type": "code",
   "execution_count": 17,
   "metadata": {},
   "outputs": [
    {
     "name": "stdout",
     "output_type": "stream",
     "text": [
      "MAE: 50.67593510713034\n",
      "MSE: 5319.410218043231\n",
      "RMSE: 72.93428698522548\n"
     ]
    }
   ],
   "source": [
    "from sklearn import metrics\n",
    "print('MAE:', metrics.mean_absolute_error(yte, pred))\n",
    "print('MSE:', metrics.mean_squared_error(yte, pred))\n",
    "print('RMSE:', np.sqrt(metrics.mean_squared_error(yte, pred)))"
   ]
  },
  {
   "cell_type": "code",
   "execution_count": null,
   "metadata": {},
   "outputs": [],
   "source": []
  },
  {
   "cell_type": "code",
   "execution_count": null,
   "metadata": {},
   "outputs": [],
   "source": []
  }
 ],
 "metadata": {
  "kernelspec": {
   "display_name": "Python 3.7 (tfgpu)",
   "language": "python",
   "name": "tfgpu"
  },
  "language_info": {
   "codemirror_mode": {
    "name": "ipython",
    "version": 3
   },
   "file_extension": ".py",
   "mimetype": "text/x-python",
   "name": "python",
   "nbconvert_exporter": "python",
   "pygments_lexer": "ipython3",
   "version": "3.8.5"
  }
 },
 "nbformat": 4,
 "nbformat_minor": 4
}
