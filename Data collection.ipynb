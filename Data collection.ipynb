{
 "cells": [
  {
   "cell_type": "code",
   "execution_count": 1,
   "metadata": {},
   "outputs": [],
   "source": [
    "import os\n",
    "import time\n",
    "import requests\n",
    "import sys"
   ]
  },
  {
   "cell_type": "code",
   "execution_count": 2,
   "metadata": {},
   "outputs": [],
   "source": [
    "def retrieve_html():\n",
    "    for year in range(2013,2019):\n",
    "        for month in range(1,13):\n",
    "            if month<10:\n",
    "                \n",
    "                url=\"https://en.tutiempo.net/climate/0{}-{}/ws-432950.html\".format(month, year)\n",
    "            else:\n",
    "                url=\"https://en.tutiempo.net/climate/{}-{}/ws-432950.html\".format(month, year)\n",
    "        texts= requests.get(url)\n",
    "        text_utf=texts.text.encode('utf=8')\n",
    "        if not os.path.exists('Data/html_data/{}'.format(year)):\n",
    "            os.makedirs('Data/html_data/{}'.format(year))\n",
    "        with open('Data/html_data/{}/{}.html'.format(year,month),'wb') as output:\n",
    "            output.write(text_utf)\n",
    "        sys.stdout.flush()"
   ]
  },
  {
   "cell_type": "code",
   "execution_count": 3,
   "metadata": {},
   "outputs": [
    {
     "name": "stdout",
     "output_type": "stream",
     "text": [
      "time taken: 7.968159914016724\n"
     ]
    }
   ],
   "source": [
    "if __name__=='__main__':\n",
    "    start=time.time()\n",
    "    retrieve_html()\n",
    "    stop= time.time()\n",
    "    print('time taken: {}'.format(stop-start))"
   ]
  },
  {
   "cell_type": "code",
   "execution_count": 4,
   "metadata": {},
   "outputs": [],
   "source": [
    "import pandas as pd\n",
    "import matplotlib.pyplot as plt"
   ]
  },
  {
   "cell_type": "code",
   "execution_count": 5,
   "metadata": {},
   "outputs": [],
   "source": [
    "def avg2013():\n",
    "    \n",
    "    temp_i=0\n",
    "    average=[]\n",
    "    for rows in pd.read_csv('Data/PMValue/aqi2013.csv',chunksize=24):\n",
    "        addvar=0\n",
    "        avg=0\n",
    "        data=[]\n",
    "        df=pd.DataFrame(data=rows)\n",
    "        for i,r in df.iterrows():\n",
    "            data.append(r['PM2.5'])\n",
    "        for i in data:\n",
    "            if type(i)==float or type(i)==int:\n",
    "                addvar+=i\n",
    "            elif type(i)==str:\n",
    "                if i!='NoData' and i!='PwrFail' and i!='---' and i!='InVld':\n",
    "                    temp=float(i)\n",
    "                    addvar+=temp\n",
    "        avg=addvar/24\n",
    "        temp_i+=1\n",
    "        average.append(avg)\n",
    "    return average"
   ]
  },
  {
   "cell_type": "code",
   "execution_count": 6,
   "metadata": {},
   "outputs": [],
   "source": [
    "def avg2014():\n",
    "    \n",
    "    temp_i=0\n",
    "    average=[]\n",
    "    for rows in pd.read_csv('Data/PMValue/aqi2014.csv',chunksize=24):\n",
    "        addvar=0\n",
    "        avg=0\n",
    "        data=[]\n",
    "        df=pd.DataFrame(data=rows)\n",
    "        for i,r in df.iterrows():\n",
    "            data.append(r['PM2.5'])\n",
    "        for i in data:\n",
    "            if type(i)==float or type(i)==int:\n",
    "                addvar+=i\n",
    "            elif type(i)==str:\n",
    "                if i!='NoData' and i!='PwrFail' and i!='---' and i!='InVld':\n",
    "                    temp=float(i)\n",
    "                    addvar+=temp\n",
    "        avg=addvar/24\n",
    "        temp_i+=1\n",
    "        average.append(avg)\n",
    "    return average"
   ]
  },
  {
   "cell_type": "code",
   "execution_count": 7,
   "metadata": {},
   "outputs": [],
   "source": [
    "def avg2015():\n",
    "    \n",
    "    temp_i=0\n",
    "    average=[]\n",
    "    for rows in pd.read_csv('Data/PMValue/aqi2015.csv',chunksize=24):\n",
    "        addvar=0\n",
    "        avg=0\n",
    "        data=[]\n",
    "        df=pd.DataFrame(data=rows)\n",
    "        for i,r in df.iterrows():\n",
    "            data.append(r['PM2.5'])\n",
    "        for i in data:\n",
    "            if type(i)==float or type(i)==int:\n",
    "                addvar+=i\n",
    "            elif type(i)==str:\n",
    "                if i!='NoData' and i!='PwrFail' and i!='---' and i!='InVld':\n",
    "                    temp=float(i)\n",
    "                    addvar+=temp\n",
    "        avg=addvar/24\n",
    "        temp_i+=1\n",
    "        average.append(avg)\n",
    "    return average"
   ]
  },
  {
   "cell_type": "code",
   "execution_count": 8,
   "metadata": {},
   "outputs": [],
   "source": [
    "def avg2016():\n",
    "    \n",
    "    temp_i=0\n",
    "    average=[]\n",
    "    for rows in pd.read_csv('Data/PMValue/aqi2016.csv',chunksize=24):\n",
    "        addvar=0\n",
    "        avg=0\n",
    "        data=[]\n",
    "        df=pd.DataFrame(data=rows)\n",
    "        for i,r in df.iterrows():\n",
    "            data.append(r['PM2.5'])\n",
    "        for i in data:\n",
    "            if type(i)==float or type(i)==int:\n",
    "                addvar+=i\n",
    "            elif type(i)==str:\n",
    "                if i!='NoData' and i!='PwrFail' and i!='---' and i!='InVld':\n",
    "                    temp=float(i)\n",
    "                    addvar+=temp\n",
    "        avg=addvar/24\n",
    "        temp_i+=1\n",
    "        average.append(avg)\n",
    "    return average"
   ]
  },
  {
   "cell_type": "code",
   "execution_count": 9,
   "metadata": {},
   "outputs": [],
   "source": [
    "def avg2017():\n",
    "    \n",
    "    temp_i=0\n",
    "    average=[]\n",
    "    for rows in pd.read_csv('Data/PMValue/aqi2017.csv',chunksize=24):\n",
    "        addvar=0\n",
    "        avg=0\n",
    "        data=[]\n",
    "        df=pd.DataFrame(data=rows)\n",
    "        for i,r in df.iterrows():\n",
    "            data.append(r['PM2.5'])\n",
    "        for i in data:\n",
    "            if type(i)==float or type(i)==int:\n",
    "                addvar+=i\n",
    "            elif type(i)==str:\n",
    "                if i!='NoData' and i!='PwrFail' and i!='---' and i!='InVld':\n",
    "                    temp=float(i)\n",
    "                    addvar+=temp\n",
    "        avg=addvar/24\n",
    "        temp_i+=1\n",
    "        average.append(avg)\n",
    "    return average"
   ]
  },
  {
   "cell_type": "code",
   "execution_count": 10,
   "metadata": {},
   "outputs": [],
   "source": [
    "def avg2018():\n",
    "    \n",
    "    temp_i=0\n",
    "    average=[]\n",
    "    for rows in pd.read_csv('Data/PMValue/aqi2018.csv',chunksize=24):\n",
    "        addvar=0\n",
    "        avg=0\n",
    "        data=[]\n",
    "        df=pd.DataFrame(data=rows)\n",
    "        for i,r in df.iterrows():\n",
    "            data.append(r['PM2.5'])\n",
    "        for i in data:\n",
    "            if type(i)==float or type(i)==int:\n",
    "                addvar+=i\n",
    "            elif type(i)==str:\n",
    "                if i!='NoData' and i!='PwrFail' and i!='---' and i!='InVld':\n",
    "                    temp=float(i)\n",
    "                    addvar+=temp\n",
    "        avg=addvar/24\n",
    "        temp_i+=1\n",
    "        average.append(avg)\n",
    "    return average"
   ]
  },
  {
   "cell_type": "code",
   "execution_count": 11,
   "metadata": {},
   "outputs": [],
   "source": [
    "list2013=avg2013()\n",
    "list2014=avg2014()\n",
    "list2015=avg2015()\n",
    "list2016=avg2016()\n",
    "list2017=avg2017()\n",
    "list2018=avg2018()"
   ]
  },
  {
   "cell_type": "code",
   "execution_count": 12,
   "metadata": {},
   "outputs": [
    {
     "data": {
      "text/plain": [
       "<function matplotlib.pyplot.show(*args, **kw)>"
      ]
     },
     "execution_count": 12,
     "metadata": {},
     "output_type": "execute_result"
    },
    {
     "data": {
      "image/png": "[encoded data removed]",
      "text/plain": [
       "<Figure size 432x288 with 1 Axes>"
      ]
     },
     "metadata": {
      "needs_background": "light"
     },
     "output_type": "display_data"
    }
   ],
   "source": [
    "plt.plot(range(0,365), list2013, label='2013 data')\n",
    "plt.plot(range(0,364), list2014, label='2014 data')\n",
    "plt.plot(range(0,365), list2015, label='2015 data')\n",
    "plt.plot(range(0,365), list2016, label='2016 data')\n",
    "plt.plot(range(0,365), list2017, label='2017 data')\n",
    "plt.plot(range(0,364), list2018, label='2018 data')\n",
    "plt.legend()\n",
    "plt.show"
   ]
  },
  {
   "cell_type": "code",
   "execution_count": 37,
   "metadata": {},
   "outputs": [],
   "source": [
    "from bs4 import BeautifulSoup\n",
    "import csv"
   ]
  },
  {
   "cell_type": "code",
   "execution_count": 34,
   "metadata": {},
   "outputs": [],
   "source": [
    "def met_data(month, year):\n",
    "    \n",
    "    file_html = open('Data/Html_Data/{}/{}.html'.format(year,month), 'rb')\n",
    "    plain_text = file_html.read()\n",
    "\n",
    "    tempD = []\n",
    "    finalD = []\n",
    "\n",
    "    soup = BeautifulSoup(plain_text, \"lxml\")\n",
    "    for table in soup.findAll('table', {'class': 'medias mensuales numspan'}):\n",
    "        for tbody in table:\n",
    "            for tr in tbody:\n",
    "                a = tr.get_text()\n",
    "                tempD.append(a)\n",
    "\n",
    "    rows = len(tempD) / 15\n",
    "\n",
    "    for times in range(round(rows)):\n",
    "        newtempD = []\n",
    "        for i in range(15):\n",
    "            newtempD.append(tempD[0])\n",
    "            tempD.pop(0)\n",
    "        finalD.append(newtempD)\n",
    "\n",
    "    length = len(finalD)\n",
    "\n",
    "    finalD.pop(length - 1)\n",
    "    finalD.pop(0)\n",
    "\n",
    "    for a in range(len(finalD)):\n",
    "        finalD[a].pop(6)\n",
    "        finalD[a].pop(13)\n",
    "        finalD[a].pop(12)\n",
    "        finalD[a].pop(11)\n",
    "        finalD[a].pop(10)\n",
    "        finalD[a].pop(9)\n",
    "        finalD[a].pop(0)\n",
    "\n",
    "    return finalD "
   ]
  },
  {
   "cell_type": "code",
   "execution_count": 35,
   "metadata": {},
   "outputs": [],
   "source": [
    "def data_combine(year, cs):\n",
    "    for a in pd.read_csv('Data/Real-Data/real_' + str(year) + '.csv', chunksize=cs):\n",
    "        df = pd.DataFrame(data=a)\n",
    "        mylist = df.values.tolist()\n",
    "    return mylist"
   ]
  },
  {
   "cell_type": "code",
   "execution_count": 39,
   "metadata": {},
   "outputs": [],
   "source": [
    "if not os.path.exists(\"Data/Real-Data\"):\n",
    "    os.makedirs(\"Data/Real-Data\")\n",
    "for year in range(2013, 2017):\n",
    "    final_data = []\n",
    "    with open('Data/Real-Data/real_' + str(year) + '.csv', 'w') as csvfile:\n",
    "        wr = csv.writer(csvfile, dialect='excel')\n",
    "        wr.writerow(\n",
    "            ['T', 'TM', 'Tm', 'SLP', 'H', 'VV', 'V', 'VM', 'PM 2.5'])\n",
    "    for month in range(1, 13):\n",
    "        temp = met_data(month, year)\n",
    "        final_data = final_data + temp\n",
    "        \n",
    "    pm = getattr(sys.modules[__name__], 'avg{}'.format(year))()\n",
    "    if len(pm) == 364:\n",
    "        pm.insert(364, '-')\n",
    "    for i in range(len(final_data)-1):\n",
    "        # final[i].insert(0, i + 1)\n",
    "        final_data[i].insert(8, pm[i])\n",
    "    with open('Data/Real-Data/real_' + str(year) + '.csv', 'a') as csvfile:\n",
    "        wr = csv.writer(csvfile, dialect='excel')\n",
    "        for row in final_data:\n",
    "            flag = 0\n",
    "            for elem in row:\n",
    "                if elem == \"\" or elem == \"-\":\n",
    "                    flag = 1\n",
    "            if flag != 1:\n",
    "                wr.writerow(row)\n",
    "                \n",
    "data_2013 = data_combine(2013, 600)\n",
    "data_2014 = data_combine(2014, 600)\n",
    "data_2015 = data_combine(2015, 600)\n",
    "data_2016 = data_combine(2016, 600)\n",
    " \n",
    "total=data_2013+data_2014+data_2015+data_2016\n",
    "\n",
    "with open('Data/Real-Data/Real_Combine.csv', 'w') as csvfile:\n",
    "    wr = csv.writer(csvfile, dialect='excel')\n",
    "    wr.writerow(\n",
    "        ['T', 'TM', 'Tm', 'SLP', 'H', 'VV', 'V', 'VM', 'PM 2.5'])\n",
    "    wr.writerows(total)"
   ]
  },
  {
   "cell_type": "code",
   "execution_count": null,
   "metadata": {},
   "outputs": [],
   "source": [
    "df=pd.read_csv('Data/Real-Data/Real_Combine.csv')"
   ]
  }
 ],
 "metadata": {
  "kernelspec": {
   "display_name": "Python 3",
   "language": "python",
   "name": "python3"
  },
  "language_info": {
   "codemirror_mode": {
    "name": "ipython",
    "version": 3
   },
   "file_extension": ".py",
   "mimetype": "text/x-python",
   "name": "python",
   "nbconvert_exporter": "python",
   "pygments_lexer": "ipython3",
   "version": "3.7.1rc2"
  }
 },
 "nbformat": 4,
 "nbformat_minor": 2
}
